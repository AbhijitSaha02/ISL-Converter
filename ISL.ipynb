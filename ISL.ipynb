{
  "nbformat": 4,
  "nbformat_minor": 0,
  "metadata": {
    "colab": {
      "provenance": []
    },
    "kernelspec": {
      "name": "python3",
      "display_name": "Python 3"
    },
    "language_info": {
      "name": "python"
    }
  },
  "cells": [
    {
      "cell_type": "code",
      "source": [
        "from google.colab import drive\n",
        "drive.mount('/content/drive')"
      ],
      "metadata": {
        "colab": {
          "base_uri": "https://localhost:8080/"
        },
        "id": "kyGDsyKzfbzX",
        "outputId": "681a7c30-b9a8-4c84-f4d5-ca4612abeabf"
      },
      "execution_count": null,
      "outputs": [
        {
          "output_type": "stream",
          "name": "stdout",
          "text": [
            "Mounted at /content/drive\n"
          ]
        }
      ]
    },
    {
      "cell_type": "code",
      "source": [
        "!pip install pytube"
      ],
      "metadata": {
        "colab": {
          "base_uri": "https://localhost:8080/"
        },
        "id": "UsElftZFglhf",
        "outputId": "1259afb1-876c-43c5-819d-8f5092ced1f3"
      },
      "execution_count": null,
      "outputs": [
        {
          "output_type": "stream",
          "name": "stdout",
          "text": [
            "Collecting pytube\n",
            "  Downloading pytube-15.0.0-py3-none-any.whl (57 kB)\n",
            "\u001b[?25l     \u001b[90m━━━━━━━━━━━━━━━━━━━━━━━━━━━━━━━━━━━━━━━━\u001b[0m \u001b[32m0.0/57.6 kB\u001b[0m \u001b[31m?\u001b[0m eta \u001b[36m-:--:--\u001b[0m\r\u001b[2K     \u001b[90m━━━━━━━━━━━━━━━━━━━━━━━━━━━━━━━━━━━━━━━━\u001b[0m \u001b[32m57.6/57.6 kB\u001b[0m \u001b[31m1.8 MB/s\u001b[0m eta \u001b[36m0:00:00\u001b[0m\n",
            "\u001b[?25hInstalling collected packages: pytube\n",
            "Successfully installed pytube-15.0.0\n"
          ]
        }
      ]
    },
    {
      "cell_type": "code",
      "source": [
        "from pytube import YouTube\n",
        "from moviepy.editor import VideoFileClip"
      ],
      "metadata": {
        "id": "KotszIHkhAPL"
      },
      "execution_count": null,
      "outputs": []
    },
    {
      "cell_type": "code",
      "execution_count": null,
      "metadata": {
        "id": "VyiXsUeyg0Mm"
      },
      "outputs": [],
      "source": [
        "def download_youtube_video(url, output_path):\n",
        "    yt = YouTube(url)\n",
        "    stream = yt.streams.get_highest_resolution()\n",
        "    stream.download(output_path)\n",
        "\n",
        "def trim_video(input_path, output_path, start_time, end_time):\n",
        "    clip = VideoFileClip(input_path)\n",
        "    trimmed_clip = clip.subclip(start_time, end_time)\n",
        "    trimmed_clip.write_videofile(output_path)\n",
        "    clip.close()"
      ]
    },
    {
      "cell_type": "code",
      "source": [
        "video_url = \"https://www.youtube.com/watch?v=-Eh3ktA52jw&list=PLxYMaKXKMMcMgg4f47WkG7AM0bb3AyjTi&index=12\"\n",
        "video_download_path = \"downloaded_video_11.mp4\"\n",
        "download_youtube_video(video_url, video_download_path)"
      ],
      "metadata": {
        "id": "s5jNQ3BwfQOK"
      },
      "execution_count": null,
      "outputs": []
    },
    {
      "cell_type": "code",
      "source": [
        "start_time = 245\n",
        "end_time = 247\n",
        "trimmed_video_path = \"/content/drive/MyDrive/Final Year Project/Data/December.mp4\"\n",
        "trim_video(video_download_path + \"/9 - Indian Sign Language 101 - Months.mp4\", trimmed_video_path, start_time, end_time)"
      ],
      "metadata": {
        "colab": {
          "base_uri": "https://localhost:8080/"
        },
        "id": "g8SGmdcUfVKY",
        "outputId": "a1c91d90-fb27-4df3-d56b-2938cf38144b"
      },
      "execution_count": null,
      "outputs": [
        {
          "output_type": "stream",
          "name": "stdout",
          "text": [
            "Moviepy - Building video /content/drive/MyDrive/Final Year Project/Data/December.mp4.\n",
            "MoviePy - Writing audio in DecemberTEMP_MPY_wvf_snd.mp3\n"
          ]
        },
        {
          "output_type": "stream",
          "name": "stderr",
          "text": []
        },
        {
          "output_type": "stream",
          "name": "stdout",
          "text": [
            "MoviePy - Done.\n",
            "Moviepy - Writing video /content/drive/MyDrive/Final Year Project/Data/December.mp4\n",
            "\n"
          ]
        },
        {
          "output_type": "stream",
          "name": "stderr",
          "text": []
        },
        {
          "output_type": "stream",
          "name": "stdout",
          "text": [
            "Moviepy - Done !\n",
            "Moviepy - video ready /content/drive/MyDrive/Final Year Project/Data/December.mp4\n"
          ]
        }
      ]
    },
    {
      "cell_type": "markdown",
      "source": [
        "# Loading Dataset"
      ],
      "metadata": {
        "id": "_s-Lz1Gb2tph"
      }
    },
    {
      "cell_type": "code",
      "source": [
        "import os\n",
        "import pandas as pd"
      ],
      "metadata": {
        "id": "dfW1R3mX3OWE"
      },
      "execution_count": null,
      "outputs": []
    },
    {
      "cell_type": "code",
      "source": [
        "def generate_dataframe(folder_path):\n",
        "    # List all files in the folder\n",
        "    files = os.listdir(folder_path)\n",
        "\n",
        "    # Filter video files (adjust extensions as needed)\n",
        "    video_files = [file for file in files if file.endswith('.mp4')]\n",
        "\n",
        "    # Extract labels from video filenames\n",
        "    labels = [filename.split('.')[0].lower() for filename in video_files]\n",
        "\n",
        "    # Create DataFrame\n",
        "    df = pd.DataFrame({'video': video_files, 'label': labels})\n",
        "\n",
        "    return df"
      ],
      "metadata": {
        "id": "OvqzxUxP2wdc"
      },
      "execution_count": null,
      "outputs": []
    },
    {
      "cell_type": "code",
      "source": [
        "folder_path = '/content/drive/MyDrive/Final Year Project/Data'\n",
        "df = generate_dataframe(folder_path)"
      ],
      "metadata": {
        "id": "Ap06HB5z2wgJ"
      },
      "execution_count": null,
      "outputs": []
    },
    {
      "cell_type": "code",
      "source": [
        "df"
      ],
      "metadata": {
        "colab": {
          "base_uri": "https://localhost:8080/",
          "height": 424
        },
        "id": "wNfyFmHG2wif",
        "outputId": "274990d5-dc99-4b89-b66a-ef3767657606"
      },
      "execution_count": null,
      "outputs": [
        {
          "output_type": "execute_result",
          "data": {
            "text/plain": [
              "                        video                 label\n",
              "0                     Box.mp4                   box\n",
              "1                   Speak.mp4                 speak\n",
              "2                       A.mp4                     a\n",
              "3                       B.mp4                     b\n",
              "4                       C.mp4                     c\n",
              "..                        ...                   ...\n",
              "162                    Me.mp4                    me\n",
              "163                    My.mp4                    my\n",
              "164                Indian.mp4                indian\n",
              "165                 India.mp4                 india\n",
              "166  Indian Sign Language.mp4  indian sign language\n",
              "\n",
              "[167 rows x 2 columns]"
            ],
            "text/html": [
              "\n",
              "  <div id=\"df-9f92b9cc-f712-4974-b4d7-8e77aa82ad9c\" class=\"colab-df-container\">\n",
              "    <div>\n",
              "<style scoped>\n",
              "    .dataframe tbody tr th:only-of-type {\n",
              "        vertical-align: middle;\n",
              "    }\n",
              "\n",
              "    .dataframe tbody tr th {\n",
              "        vertical-align: top;\n",
              "    }\n",
              "\n",
              "    .dataframe thead th {\n",
              "        text-align: right;\n",
              "    }\n",
              "</style>\n",
              "<table border=\"1\" class=\"dataframe\">\n",
              "  <thead>\n",
              "    <tr style=\"text-align: right;\">\n",
              "      <th></th>\n",
              "      <th>video</th>\n",
              "      <th>label</th>\n",
              "    </tr>\n",
              "  </thead>\n",
              "  <tbody>\n",
              "    <tr>\n",
              "      <th>0</th>\n",
              "      <td>Box.mp4</td>\n",
              "      <td>box</td>\n",
              "    </tr>\n",
              "    <tr>\n",
              "      <th>1</th>\n",
              "      <td>Speak.mp4</td>\n",
              "      <td>speak</td>\n",
              "    </tr>\n",
              "    <tr>\n",
              "      <th>2</th>\n",
              "      <td>A.mp4</td>\n",
              "      <td>a</td>\n",
              "    </tr>\n",
              "    <tr>\n",
              "      <th>3</th>\n",
              "      <td>B.mp4</td>\n",
              "      <td>b</td>\n",
              "    </tr>\n",
              "    <tr>\n",
              "      <th>4</th>\n",
              "      <td>C.mp4</td>\n",
              "      <td>c</td>\n",
              "    </tr>\n",
              "    <tr>\n",
              "      <th>...</th>\n",
              "      <td>...</td>\n",
              "      <td>...</td>\n",
              "    </tr>\n",
              "    <tr>\n",
              "      <th>162</th>\n",
              "      <td>Me.mp4</td>\n",
              "      <td>me</td>\n",
              "    </tr>\n",
              "    <tr>\n",
              "      <th>163</th>\n",
              "      <td>My.mp4</td>\n",
              "      <td>my</td>\n",
              "    </tr>\n",
              "    <tr>\n",
              "      <th>164</th>\n",
              "      <td>Indian.mp4</td>\n",
              "      <td>indian</td>\n",
              "    </tr>\n",
              "    <tr>\n",
              "      <th>165</th>\n",
              "      <td>India.mp4</td>\n",
              "      <td>india</td>\n",
              "    </tr>\n",
              "    <tr>\n",
              "      <th>166</th>\n",
              "      <td>Indian Sign Language.mp4</td>\n",
              "      <td>indian sign language</td>\n",
              "    </tr>\n",
              "  </tbody>\n",
              "</table>\n",
              "<p>167 rows × 2 columns</p>\n",
              "</div>\n",
              "    <div class=\"colab-df-buttons\">\n",
              "\n",
              "  <div class=\"colab-df-container\">\n",
              "    <button class=\"colab-df-convert\" onclick=\"convertToInteractive('df-9f92b9cc-f712-4974-b4d7-8e77aa82ad9c')\"\n",
              "            title=\"Convert this dataframe to an interactive table.\"\n",
              "            style=\"display:none;\">\n",
              "\n",
              "  <svg xmlns=\"http://www.w3.org/2000/svg\" height=\"24px\" viewBox=\"0 -960 960 960\">\n",
              "    <path d=\"M120-120v-720h720v720H120Zm60-500h600v-160H180v160Zm220 220h160v-160H400v160Zm0 220h160v-160H400v160ZM180-400h160v-160H180v160Zm440 0h160v-160H620v160ZM180-180h160v-160H180v160Zm440 0h160v-160H620v160Z\"/>\n",
              "  </svg>\n",
              "    </button>\n",
              "\n",
              "  <style>\n",
              "    .colab-df-container {\n",
              "      display:flex;\n",
              "      gap: 12px;\n",
              "    }\n",
              "\n",
              "    .colab-df-convert {\n",
              "      background-color: #E8F0FE;\n",
              "      border: none;\n",
              "      border-radius: 50%;\n",
              "      cursor: pointer;\n",
              "      display: none;\n",
              "      fill: #1967D2;\n",
              "      height: 32px;\n",
              "      padding: 0 0 0 0;\n",
              "      width: 32px;\n",
              "    }\n",
              "\n",
              "    .colab-df-convert:hover {\n",
              "      background-color: #E2EBFA;\n",
              "      box-shadow: 0px 1px 2px rgba(60, 64, 67, 0.3), 0px 1px 3px 1px rgba(60, 64, 67, 0.15);\n",
              "      fill: #174EA6;\n",
              "    }\n",
              "\n",
              "    .colab-df-buttons div {\n",
              "      margin-bottom: 4px;\n",
              "    }\n",
              "\n",
              "    [theme=dark] .colab-df-convert {\n",
              "      background-color: #3B4455;\n",
              "      fill: #D2E3FC;\n",
              "    }\n",
              "\n",
              "    [theme=dark] .colab-df-convert:hover {\n",
              "      background-color: #434B5C;\n",
              "      box-shadow: 0px 1px 3px 1px rgba(0, 0, 0, 0.15);\n",
              "      filter: drop-shadow(0px 1px 2px rgba(0, 0, 0, 0.3));\n",
              "      fill: #FFFFFF;\n",
              "    }\n",
              "  </style>\n",
              "\n",
              "    <script>\n",
              "      const buttonEl =\n",
              "        document.querySelector('#df-9f92b9cc-f712-4974-b4d7-8e77aa82ad9c button.colab-df-convert');\n",
              "      buttonEl.style.display =\n",
              "        google.colab.kernel.accessAllowed ? 'block' : 'none';\n",
              "\n",
              "      async function convertToInteractive(key) {\n",
              "        const element = document.querySelector('#df-9f92b9cc-f712-4974-b4d7-8e77aa82ad9c');\n",
              "        const dataTable =\n",
              "          await google.colab.kernel.invokeFunction('convertToInteractive',\n",
              "                                                    [key], {});\n",
              "        if (!dataTable) return;\n",
              "\n",
              "        const docLinkHtml = 'Like what you see? Visit the ' +\n",
              "          '<a target=\"_blank\" href=https://colab.research.google.com/notebooks/data_table.ipynb>data table notebook</a>'\n",
              "          + ' to learn more about interactive tables.';\n",
              "        element.innerHTML = '';\n",
              "        dataTable['output_type'] = 'display_data';\n",
              "        await google.colab.output.renderOutput(dataTable, element);\n",
              "        const docLink = document.createElement('div');\n",
              "        docLink.innerHTML = docLinkHtml;\n",
              "        element.appendChild(docLink);\n",
              "      }\n",
              "    </script>\n",
              "  </div>\n",
              "\n",
              "\n",
              "<div id=\"df-9a865f7f-8bc8-413a-874d-3bb257c1953d\">\n",
              "  <button class=\"colab-df-quickchart\" onclick=\"quickchart('df-9a865f7f-8bc8-413a-874d-3bb257c1953d')\"\n",
              "            title=\"Suggest charts\"\n",
              "            style=\"display:none;\">\n",
              "\n",
              "<svg xmlns=\"http://www.w3.org/2000/svg\" height=\"24px\"viewBox=\"0 0 24 24\"\n",
              "     width=\"24px\">\n",
              "    <g>\n",
              "        <path d=\"M19 3H5c-1.1 0-2 .9-2 2v14c0 1.1.9 2 2 2h14c1.1 0 2-.9 2-2V5c0-1.1-.9-2-2-2zM9 17H7v-7h2v7zm4 0h-2V7h2v10zm4 0h-2v-4h2v4z\"/>\n",
              "    </g>\n",
              "</svg>\n",
              "  </button>\n",
              "\n",
              "<style>\n",
              "  .colab-df-quickchart {\n",
              "      --bg-color: #E8F0FE;\n",
              "      --fill-color: #1967D2;\n",
              "      --hover-bg-color: #E2EBFA;\n",
              "      --hover-fill-color: #174EA6;\n",
              "      --disabled-fill-color: #AAA;\n",
              "      --disabled-bg-color: #DDD;\n",
              "  }\n",
              "\n",
              "  [theme=dark] .colab-df-quickchart {\n",
              "      --bg-color: #3B4455;\n",
              "      --fill-color: #D2E3FC;\n",
              "      --hover-bg-color: #434B5C;\n",
              "      --hover-fill-color: #FFFFFF;\n",
              "      --disabled-bg-color: #3B4455;\n",
              "      --disabled-fill-color: #666;\n",
              "  }\n",
              "\n",
              "  .colab-df-quickchart {\n",
              "    background-color: var(--bg-color);\n",
              "    border: none;\n",
              "    border-radius: 50%;\n",
              "    cursor: pointer;\n",
              "    display: none;\n",
              "    fill: var(--fill-color);\n",
              "    height: 32px;\n",
              "    padding: 0;\n",
              "    width: 32px;\n",
              "  }\n",
              "\n",
              "  .colab-df-quickchart:hover {\n",
              "    background-color: var(--hover-bg-color);\n",
              "    box-shadow: 0 1px 2px rgba(60, 64, 67, 0.3), 0 1px 3px 1px rgba(60, 64, 67, 0.15);\n",
              "    fill: var(--button-hover-fill-color);\n",
              "  }\n",
              "\n",
              "  .colab-df-quickchart-complete:disabled,\n",
              "  .colab-df-quickchart-complete:disabled:hover {\n",
              "    background-color: var(--disabled-bg-color);\n",
              "    fill: var(--disabled-fill-color);\n",
              "    box-shadow: none;\n",
              "  }\n",
              "\n",
              "  .colab-df-spinner {\n",
              "    border: 2px solid var(--fill-color);\n",
              "    border-color: transparent;\n",
              "    border-bottom-color: var(--fill-color);\n",
              "    animation:\n",
              "      spin 1s steps(1) infinite;\n",
              "  }\n",
              "\n",
              "  @keyframes spin {\n",
              "    0% {\n",
              "      border-color: transparent;\n",
              "      border-bottom-color: var(--fill-color);\n",
              "      border-left-color: var(--fill-color);\n",
              "    }\n",
              "    20% {\n",
              "      border-color: transparent;\n",
              "      border-left-color: var(--fill-color);\n",
              "      border-top-color: var(--fill-color);\n",
              "    }\n",
              "    30% {\n",
              "      border-color: transparent;\n",
              "      border-left-color: var(--fill-color);\n",
              "      border-top-color: var(--fill-color);\n",
              "      border-right-color: var(--fill-color);\n",
              "    }\n",
              "    40% {\n",
              "      border-color: transparent;\n",
              "      border-right-color: var(--fill-color);\n",
              "      border-top-color: var(--fill-color);\n",
              "    }\n",
              "    60% {\n",
              "      border-color: transparent;\n",
              "      border-right-color: var(--fill-color);\n",
              "    }\n",
              "    80% {\n",
              "      border-color: transparent;\n",
              "      border-right-color: var(--fill-color);\n",
              "      border-bottom-color: var(--fill-color);\n",
              "    }\n",
              "    90% {\n",
              "      border-color: transparent;\n",
              "      border-bottom-color: var(--fill-color);\n",
              "    }\n",
              "  }\n",
              "</style>\n",
              "\n",
              "  <script>\n",
              "    async function quickchart(key) {\n",
              "      const quickchartButtonEl =\n",
              "        document.querySelector('#' + key + ' button');\n",
              "      quickchartButtonEl.disabled = true;  // To prevent multiple clicks.\n",
              "      quickchartButtonEl.classList.add('colab-df-spinner');\n",
              "      try {\n",
              "        const charts = await google.colab.kernel.invokeFunction(\n",
              "            'suggestCharts', [key], {});\n",
              "      } catch (error) {\n",
              "        console.error('Error during call to suggestCharts:', error);\n",
              "      }\n",
              "      quickchartButtonEl.classList.remove('colab-df-spinner');\n",
              "      quickchartButtonEl.classList.add('colab-df-quickchart-complete');\n",
              "    }\n",
              "    (() => {\n",
              "      let quickchartButtonEl =\n",
              "        document.querySelector('#df-9a865f7f-8bc8-413a-874d-3bb257c1953d button');\n",
              "      quickchartButtonEl.style.display =\n",
              "        google.colab.kernel.accessAllowed ? 'block' : 'none';\n",
              "    })();\n",
              "  </script>\n",
              "</div>\n",
              "\n",
              "  <div id=\"id_2b10b342-adb5-43be-93fb-121a1b22a5c4\">\n",
              "    <style>\n",
              "      .colab-df-generate {\n",
              "        background-color: #E8F0FE;\n",
              "        border: none;\n",
              "        border-radius: 50%;\n",
              "        cursor: pointer;\n",
              "        display: none;\n",
              "        fill: #1967D2;\n",
              "        height: 32px;\n",
              "        padding: 0 0 0 0;\n",
              "        width: 32px;\n",
              "      }\n",
              "\n",
              "      .colab-df-generate:hover {\n",
              "        background-color: #E2EBFA;\n",
              "        box-shadow: 0px 1px 2px rgba(60, 64, 67, 0.3), 0px 1px 3px 1px rgba(60, 64, 67, 0.15);\n",
              "        fill: #174EA6;\n",
              "      }\n",
              "\n",
              "      [theme=dark] .colab-df-generate {\n",
              "        background-color: #3B4455;\n",
              "        fill: #D2E3FC;\n",
              "      }\n",
              "\n",
              "      [theme=dark] .colab-df-generate:hover {\n",
              "        background-color: #434B5C;\n",
              "        box-shadow: 0px 1px 3px 1px rgba(0, 0, 0, 0.15);\n",
              "        filter: drop-shadow(0px 1px 2px rgba(0, 0, 0, 0.3));\n",
              "        fill: #FFFFFF;\n",
              "      }\n",
              "    </style>\n",
              "    <button class=\"colab-df-generate\" onclick=\"generateWithVariable('df')\"\n",
              "            title=\"Generate code using this dataframe.\"\n",
              "            style=\"display:none;\">\n",
              "\n",
              "  <svg xmlns=\"http://www.w3.org/2000/svg\" height=\"24px\"viewBox=\"0 0 24 24\"\n",
              "       width=\"24px\">\n",
              "    <path d=\"M7,19H8.4L18.45,9,17,7.55,7,17.6ZM5,21V16.75L18.45,3.32a2,2,0,0,1,2.83,0l1.4,1.43a1.91,1.91,0,0,1,.58,1.4,1.91,1.91,0,0,1-.58,1.4L9.25,21ZM18.45,9,17,7.55Zm-12,3A5.31,5.31,0,0,0,4.9,8.1,5.31,5.31,0,0,0,1,6.5,5.31,5.31,0,0,0,4.9,4.9,5.31,5.31,0,0,0,6.5,1,5.31,5.31,0,0,0,8.1,4.9,5.31,5.31,0,0,0,12,6.5,5.46,5.46,0,0,0,6.5,12Z\"/>\n",
              "  </svg>\n",
              "    </button>\n",
              "    <script>\n",
              "      (() => {\n",
              "      const buttonEl =\n",
              "        document.querySelector('#id_2b10b342-adb5-43be-93fb-121a1b22a5c4 button.colab-df-generate');\n",
              "      buttonEl.style.display =\n",
              "        google.colab.kernel.accessAllowed ? 'block' : 'none';\n",
              "\n",
              "      buttonEl.onclick = () => {\n",
              "        google.colab.notebook.generateWithVariable('df');\n",
              "      }\n",
              "      })();\n",
              "    </script>\n",
              "  </div>\n",
              "\n",
              "    </div>\n",
              "  </div>\n"
            ],
            "application/vnd.google.colaboratory.intrinsic+json": {
              "type": "dataframe",
              "variable_name": "df",
              "summary": "{\n  \"name\": \"df\",\n  \"rows\": 167,\n  \"fields\": [\n    {\n      \"column\": \"video\",\n      \"properties\": {\n        \"dtype\": \"string\",\n        \"num_unique_values\": 167,\n        \"samples\": [\n          \"Why.mp4\",\n          \"White.mp4\",\n          \"Child.mp4\"\n        ],\n        \"semantic_type\": \"\",\n        \"description\": \"\"\n      }\n    },\n    {\n      \"column\": \"label\",\n      \"properties\": {\n        \"dtype\": \"string\",\n        \"num_unique_values\": 167,\n        \"samples\": [\n          \"why\",\n          \"white\",\n          \"child\"\n        ],\n        \"semantic_type\": \"\",\n        \"description\": \"\"\n      }\n    }\n  ]\n}"
            }
          },
          "metadata": {},
          "execution_count": 6
        }
      ]
    },
    {
      "cell_type": "code",
      "source": [
        "phrase_dict = {}\n",
        "for i, label in enumerate(df['label']):\n",
        "  if len(label.split()) > 1:\n",
        "    phrase_dict[label] = i"
      ],
      "metadata": {
        "id": "SMJOhISWjVGF"
      },
      "execution_count": null,
      "outputs": []
    },
    {
      "cell_type": "code",
      "source": [
        "phrase_dict"
      ],
      "metadata": {
        "colab": {
          "base_uri": "https://localhost:8080/"
        },
        "id": "64CJIgbAj2DN",
        "outputId": "f3c01a5b-e50a-4c0c-eb24-acf9de58773f"
      },
      "execution_count": null,
      "outputs": [
        {
          "output_type": "execute_result",
          "data": {
            "text/plain": [
              "{'1 lakh': 43,\n",
              " '1 crore': 44,\n",
              " 'sign (1)': 47,\n",
              " 'thank you': 58,\n",
              " 'thank you very much': 59,\n",
              " 'i am fine': 64,\n",
              " 'my name is': 65,\n",
              " 'good morning': 84,\n",
              " 'good afternoon': 85,\n",
              " 'good evening': 86,\n",
              " 'good night': 87,\n",
              " 'no fear': 90,\n",
              " \"i don't understand\": 92,\n",
              " 'how are you': 161,\n",
              " 'indian sign language': 166}"
            ]
          },
          "metadata": {},
          "execution_count": 19
        }
      ]
    },
    {
      "cell_type": "markdown",
      "source": [
        "# Text to Video"
      ],
      "metadata": {
        "id": "CcM-eXoDiLEC"
      }
    },
    {
      "cell_type": "code",
      "source": [
        "!pip install speechrecognition"
      ],
      "metadata": {
        "colab": {
          "base_uri": "https://localhost:8080/"
        },
        "id": "mkvYfCpomr3g",
        "outputId": "1315df35-9b8f-49ce-8917-ef08c1a32f4a"
      },
      "execution_count": null,
      "outputs": [
        {
          "output_type": "stream",
          "name": "stdout",
          "text": [
            "Collecting speechrecognition\n",
            "  Downloading SpeechRecognition-3.10.3-py2.py3-none-any.whl (32.8 MB)\n",
            "\u001b[2K     \u001b[90m━━━━━━━━━━━━━━━━━━━━━━━━━━━━━━━━━━━━━━━━\u001b[0m \u001b[32m32.8/32.8 MB\u001b[0m \u001b[31m26.6 MB/s\u001b[0m eta \u001b[36m0:00:00\u001b[0m\n",
            "\u001b[?25hRequirement already satisfied: requests>=2.26.0 in /usr/local/lib/python3.10/dist-packages (from speechrecognition) (2.31.0)\n",
            "Requirement already satisfied: typing-extensions in /usr/local/lib/python3.10/dist-packages (from speechrecognition) (4.10.0)\n",
            "Requirement already satisfied: charset-normalizer<4,>=2 in /usr/local/lib/python3.10/dist-packages (from requests>=2.26.0->speechrecognition) (3.3.2)\n",
            "Requirement already satisfied: idna<4,>=2.5 in /usr/local/lib/python3.10/dist-packages (from requests>=2.26.0->speechrecognition) (3.6)\n",
            "Requirement already satisfied: urllib3<3,>=1.21.1 in /usr/local/lib/python3.10/dist-packages (from requests>=2.26.0->speechrecognition) (2.0.7)\n",
            "Requirement already satisfied: certifi>=2017.4.17 in /usr/local/lib/python3.10/dist-packages (from requests>=2.26.0->speechrecognition) (2024.2.2)\n",
            "Installing collected packages: speechrecognition\n",
            "Successfully installed speechrecognition-3.10.3\n"
          ]
        }
      ]
    },
    {
      "cell_type": "code",
      "source": [
        "!apt install libasound2-dev portaudio19-dev libportaudio2 libportaudiocpp0 ffmpeg\n",
        "!pip install PyAudio"
      ],
      "metadata": {
        "colab": {
          "base_uri": "https://localhost:8080/"
        },
        "id": "v21VEBVTmv5P",
        "outputId": "e1d26539-ce64-4b2d-f37a-230e39e7965f"
      },
      "execution_count": null,
      "outputs": [
        {
          "output_type": "stream",
          "name": "stdout",
          "text": [
            "Reading package lists... Done\n",
            "Building dependency tree... Done\n",
            "Reading state information... Done\n",
            "libasound2-dev is already the newest version (1.2.6.1-1ubuntu1).\n",
            "ffmpeg is already the newest version (7:4.4.2-0ubuntu0.22.04.1).\n",
            "Suggested packages:\n",
            "  portaudio19-doc\n",
            "The following NEW packages will be installed:\n",
            "  libportaudio2 libportaudiocpp0 portaudio19-dev\n",
            "0 upgraded, 3 newly installed, 0 to remove and 45 not upgraded.\n",
            "Need to get 188 kB of archives.\n",
            "After this operation, 927 kB of additional disk space will be used.\n",
            "Get:1 http://archive.ubuntu.com/ubuntu jammy/universe amd64 libportaudio2 amd64 19.6.0-1.1 [65.3 kB]\n",
            "Get:2 http://archive.ubuntu.com/ubuntu jammy/universe amd64 libportaudiocpp0 amd64 19.6.0-1.1 [16.1 kB]\n",
            "Get:3 http://archive.ubuntu.com/ubuntu jammy/universe amd64 portaudio19-dev amd64 19.6.0-1.1 [106 kB]\n",
            "Fetched 188 kB in 1s (207 kB/s)\n",
            "Selecting previously unselected package libportaudio2:amd64.\n",
            "(Reading database ... 121753 files and directories currently installed.)\n",
            "Preparing to unpack .../libportaudio2_19.6.0-1.1_amd64.deb ...\n",
            "Unpacking libportaudio2:amd64 (19.6.0-1.1) ...\n",
            "Selecting previously unselected package libportaudiocpp0:amd64.\n",
            "Preparing to unpack .../libportaudiocpp0_19.6.0-1.1_amd64.deb ...\n",
            "Unpacking libportaudiocpp0:amd64 (19.6.0-1.1) ...\n",
            "Selecting previously unselected package portaudio19-dev:amd64.\n",
            "Preparing to unpack .../portaudio19-dev_19.6.0-1.1_amd64.deb ...\n",
            "Unpacking portaudio19-dev:amd64 (19.6.0-1.1) ...\n",
            "Setting up libportaudio2:amd64 (19.6.0-1.1) ...\n",
            "Setting up libportaudiocpp0:amd64 (19.6.0-1.1) ...\n",
            "Setting up portaudio19-dev:amd64 (19.6.0-1.1) ...\n",
            "Processing triggers for libc-bin (2.35-0ubuntu3.4) ...\n",
            "/sbin/ldconfig.real: /usr/local/lib/libtbbbind_2_0.so.3 is not a symbolic link\n",
            "\n",
            "/sbin/ldconfig.real: /usr/local/lib/libtbb.so.12 is not a symbolic link\n",
            "\n",
            "/sbin/ldconfig.real: /usr/local/lib/libtbbmalloc_proxy.so.2 is not a symbolic link\n",
            "\n",
            "/sbin/ldconfig.real: /usr/local/lib/libtbbbind.so.3 is not a symbolic link\n",
            "\n",
            "/sbin/ldconfig.real: /usr/local/lib/libtbbbind_2_5.so.3 is not a symbolic link\n",
            "\n",
            "/sbin/ldconfig.real: /usr/local/lib/libtbbmalloc.so.2 is not a symbolic link\n",
            "\n",
            "Collecting PyAudio\n",
            "  Downloading PyAudio-0.2.14.tar.gz (47 kB)\n",
            "\u001b[2K     \u001b[90m━━━━━━━━━━━━━━━━━━━━━━━━━━━━━━━━━━━━━━━━\u001b[0m \u001b[32m47.1/47.1 kB\u001b[0m \u001b[31m2.1 MB/s\u001b[0m eta \u001b[36m0:00:00\u001b[0m\n",
            "\u001b[?25h  Installing build dependencies ... \u001b[?25l\u001b[?25hdone\n",
            "  Getting requirements to build wheel ... \u001b[?25l\u001b[?25hdone\n",
            "  Preparing metadata (pyproject.toml) ... \u001b[?25l\u001b[?25hdone\n",
            "Building wheels for collected packages: PyAudio\n",
            "  Building wheel for PyAudio (pyproject.toml) ... \u001b[?25l\u001b[?25hdone\n",
            "  Created wheel for PyAudio: filename=PyAudio-0.2.14-cp310-cp310-linux_x86_64.whl size=63860 sha256=7f86f0a5330c46c01c00b1fad8298d68a26070911664cec5476811e093c8a6be\n",
            "  Stored in directory: /root/.cache/pip/wheels/d6/21/f4/0b51d41ba79e51b16295cbb096ec49f334792814d545b508c5\n",
            "Successfully built PyAudio\n",
            "Installing collected packages: PyAudio\n",
            "Successfully installed PyAudio-0.2.14\n"
          ]
        }
      ]
    },
    {
      "cell_type": "code",
      "source": [
        "!pip install pyttsx3"
      ],
      "metadata": {
        "colab": {
          "base_uri": "https://localhost:8080/"
        },
        "id": "rw-Jgc4xm1YH",
        "outputId": "3816948d-401c-4517-d0a2-d8e37af5266d"
      },
      "execution_count": null,
      "outputs": [
        {
          "output_type": "stream",
          "name": "stdout",
          "text": [
            "Collecting pyttsx3\n",
            "  Downloading pyttsx3-2.90-py3-none-any.whl (39 kB)\n",
            "Installing collected packages: pyttsx3\n",
            "Successfully installed pyttsx3-2.90\n"
          ]
        }
      ]
    },
    {
      "cell_type": "code",
      "source": [
        "import nltk\n",
        "import string\n",
        "import re\n",
        "import speech_recognition as sr\n",
        "import pyttsx3\n",
        "import inflect\n",
        "from nltk.corpus import stopwords\n",
        "from nltk.tokenize import word_tokenize\n",
        "from nltk.stem.porter import PorterStemmer\n",
        "from nltk.tokenize import word_tokenize\n",
        "from moviepy.editor import VideoFileClip, concatenate_videoclips\n",
        "from nltk.stem import WordNetLemmatizer\n",
        "import torch\n",
        "from transformers import BertModel, BertTokenizer"
      ],
      "metadata": {
        "id": "KEZOlt1dkvQE"
      },
      "execution_count": null,
      "outputs": []
    },
    {
      "cell_type": "code",
      "source": [
        "nltk.download('stopwords')\n",
        "nltk.download('punkt')\n",
        "nltk.download('wordnet')"
      ],
      "metadata": {
        "colab": {
          "base_uri": "https://localhost:8080/"
        },
        "id": "iewyvsLTqdXz",
        "outputId": "d399a5fe-f57e-4333-e1aa-9354c4166a94"
      },
      "execution_count": null,
      "outputs": [
        {
          "output_type": "stream",
          "name": "stderr",
          "text": [
            "[nltk_data] Downloading package stopwords to /root/nltk_data...\n",
            "[nltk_data]   Unzipping corpora/stopwords.zip.\n",
            "[nltk_data] Downloading package punkt to /root/nltk_data...\n",
            "[nltk_data]   Unzipping tokenizers/punkt.zip.\n",
            "[nltk_data] Downloading package wordnet to /root/nltk_data...\n"
          ]
        },
        {
          "output_type": "execute_result",
          "data": {
            "text/plain": [
              "True"
            ]
          },
          "metadata": {},
          "execution_count": 13
        }
      ]
    },
    {
      "cell_type": "code",
      "source": [
        "# Python program to translate\n",
        "# speech to text and text to speech\n",
        "\n",
        "# Initialize the recognizer\n",
        "r = sr.Recognizer()\n",
        "\n",
        "# Function to convert text to\n",
        "# speech\n",
        "def SpeakText(command):\n",
        "\n",
        "\t# Initialize the engine\n",
        "\tengine = pyttsx3.init()\n",
        "\tengine.say(command)\n",
        "\tengine.runAndWait()\n",
        "\n",
        "\n",
        "# Loop infinitely for user to\n",
        "# speak\n",
        "\n",
        "while(1):\n",
        "\n",
        "\t# Exception handling to handle\n",
        "\t# exceptions at the runtime\n",
        "\ttry:\n",
        "\n",
        "\t\t# use the microphone as source for input.\n",
        "\t\twith sr.Microphone() as source2:\n",
        "\n",
        "\t\t\t# wait for a second to let the recognizer\n",
        "\t\t\t# adjust the energy threshold based on\n",
        "\t\t\t# the surrounding noise level\n",
        "\t\t\tr.adjust_for_ambient_noise(source2, duration=0.2)\n",
        "\n",
        "\t\t\t#listens for the user's input\n",
        "\t\t\taudio2 = r.listen(source2)\n",
        "\n",
        "\t\t\t# Using google to recognize audio\n",
        "\t\t\tMyText = r.recognize_google(audio2)\n",
        "\t\t\tMyText = MyText.lower()\n",
        "\n",
        "\t\t\tprint(MyText)\n",
        "\t\t\tSpeakText(MyText)\n",
        "\n",
        "\texcept sr.RequestError as e:\n",
        "\t\tprint(\"Could not request results; {0}\".format(e))\n",
        "\n",
        "\texcept sr.UnknownValueError:\n",
        "\t\tprint(\"unknown error occurred\")"
      ],
      "metadata": {
        "id": "2MAJ3-M0j88a"
      },
      "execution_count": null,
      "outputs": []
    },
    {
      "cell_type": "code",
      "source": [
        "def text_preprocess_and_lowercase(text):\n",
        "    if 'I ' or ' I ' in text:\n",
        "      text = text.replace(' I ', ' Me ')\n",
        "\n",
        "    for key, value in phrase_dict.items():\n",
        "      if key in text.lower():\n",
        "        text = text.lower().replace(key, 'df' + str(value))\n",
        "\n",
        "    return text"
      ],
      "metadata": {
        "id": "G0_EDhF8knzc"
      },
      "execution_count": null,
      "outputs": []
    },
    {
      "cell_type": "code",
      "source": [
        "def remove_punctuation(text):\n",
        "    translator = str.maketrans('', '', string.punctuation)\n",
        "    return text.translate(translator)"
      ],
      "metadata": {
        "id": "pPOwtZAFk4bL"
      },
      "execution_count": null,
      "outputs": []
    },
    {
      "cell_type": "code",
      "source": [
        "p = inflect.engine()\n",
        "\n",
        "# convert number into words\n",
        "def convert_number(text):\n",
        "    # split string into list of words\n",
        "    temp_str = text.split()\n",
        "    # initialise empty list\n",
        "    new_string = []\n",
        "\n",
        "    for word in temp_str:\n",
        "        # if word is a digit, convert the digit\n",
        "        # to numbers and append into the new_string list\n",
        "        if word.isdigit() and int(word) >= 10000:\n",
        "            temp = p.number_to_words(word)\n",
        "            new_string.append(temp)\n",
        "\n",
        "        elif word.isdigit():\n",
        "            s = ''\n",
        "            for x in word:\n",
        "                s += x + ' '\n",
        "            new_string.append(s)\n",
        "        # append the word as it is\n",
        "        else:\n",
        "            new_string.append(word)\n",
        "\n",
        "    # join the words of new_string to form a string\n",
        "    temp_str = ' '.join(new_string)\n",
        "    return temp_str"
      ],
      "metadata": {
        "id": "TDrGr4Dtk1ND"
      },
      "execution_count": null,
      "outputs": []
    },
    {
      "cell_type": "code",
      "source": [
        "def remove_whitespace(text):\n",
        "    return  \" \".join(text.split())"
      ],
      "metadata": {
        "id": "tAQQN27Qk7P7"
      },
      "execution_count": null,
      "outputs": []
    },
    {
      "cell_type": "code",
      "source": [
        " # remove stopwords function\n",
        "def remove_stopwords(text):\n",
        "    stop_words = set(stopwords.words(\"english\"))\n",
        "    word_tokens = word_tokenize(text)\n",
        "    # Define a list of pronouns to exclude from stopwords removal\n",
        "    pronouns = set([\"i\", \"you\", \"he\", \"she\", \"it\", \"we\", \"they\", \"me\", \"my\", \"his\", \"him\", \"her\", \"us\", \"them\", \"myself\", \"yourself\", \"himself\", \"herself\", \"itself\", \"ourselves\", \"themselves\"])\n",
        "    # Remove stopwords from the sentence while retaining pronouns\n",
        "    filtered_text = [word for word in word_tokens if word.lower() not in stop_words or word.lower() in pronouns]\n",
        "\n",
        "    for i in range(len(filtered_text)):\n",
        "      if 'df' in filtered_text[i]:\n",
        "        filtered_text[i] = df['label'][int(filtered_text[i][2:])]\n",
        "\n",
        "    return filtered_text"
      ],
      "metadata": {
        "id": "_oa8IzKMk_1r"
      },
      "execution_count": null,
      "outputs": []
    },
    {
      "cell_type": "code",
      "source": [
        "stemmer = PorterStemmer()\n",
        "\n",
        "# stem words in the list of tokenized words\n",
        "def stem_words(word_tokens):\n",
        "    stems = [stemmer.stem(word) for word in word_tokens]\n",
        "    return stems"
      ],
      "metadata": {
        "id": "8gJ2ztXylKWT"
      },
      "execution_count": null,
      "outputs": []
    },
    {
      "cell_type": "code",
      "source": [
        "def lemmatize_words(word_tokens):\n",
        "    lemmatizer = WordNetLemmatizer()\n",
        "    lemmatized_tokens = [lemmatizer.lemmatize(word) for word in word_tokens]\n",
        "    return lemmatized_tokens"
      ],
      "metadata": {
        "id": "fckCSoBEuEAA"
      },
      "execution_count": null,
      "outputs": []
    },
    {
      "cell_type": "code",
      "source": [
        "def preprocess_sentence(sentence):\n",
        "    sentence = text_preprocess_and_lowercase(sentence)\n",
        "    sentence = remove_punctuation(sentence)\n",
        "    sentence = convert_number(sentence)\n",
        "    sentence = remove_whitespace(sentence)\n",
        "    word_tokens = remove_stopwords(sentence)\n",
        "    word_tokens = lemmatize_words(word_tokens)\n",
        "    return word_tokens"
      ],
      "metadata": {
        "id": "dV4foAQZm_tU"
      },
      "execution_count": null,
      "outputs": []
    },
    {
      "cell_type": "code",
      "source": [
        "def keyword_matching(word_tokens, df):\n",
        "    video_clips = []\n",
        "    for word in word_tokens:\n",
        "        if df['label'].str.contains(word.lower()).any():\n",
        "            video_clips.append(''.join(df.loc[df['label'] == word.lower(), 'video'].values))\n",
        "        else:\n",
        "            letters = list(word)\n",
        "            for letter in letters:\n",
        "                if df['label'].str.contains(letter.lower()).any():\n",
        "                    video_clips.append(''.join(df.loc[df['label'] == letter.lower(), 'video'].values))\n",
        "    return video_clips"
      ],
      "metadata": {
        "id": "XoNRRhDl4BPY"
      },
      "execution_count": null,
      "outputs": []
    },
    {
      "cell_type": "code",
      "source": [],
      "metadata": {
        "id": "enClM0D7A_PI"
      },
      "execution_count": null,
      "outputs": []
    },
    {
      "cell_type": "code",
      "source": [
        "def combine_video_clips(video_clips, output_path):\n",
        "    # Load the video clips\n",
        "    clips = [VideoFileClip(f'/content/drive/MyDrive/Final Year Project/Data/{clip_path}') for clip_path in video_clips]\n",
        "\n",
        "    # Concatenate the clips horizontally (you can customize the arrangement)\n",
        "    final_clip = concatenate_videoclips(clips, method = \"compose\")\n",
        "\n",
        "    # Write the final composite clip to the output path\n",
        "    final_clip.write_videofile(output_path, codec = \"libx264\")\n",
        "\n",
        "    # Print a success message\n",
        "    print(f\"Video clips combined and saved as {output_path}\")"
      ],
      "metadata": {
        "id": "O6r6KLhPidad"
      },
      "execution_count": null,
      "outputs": []
    },
    {
      "cell_type": "code",
      "source": [
        "sentence = \"Hello, I name is Abhijit Saha. My age is 22.\"\n",
        "output_path = \"output_combined_video.mp4\""
      ],
      "metadata": {
        "id": "2w3jQ8Dql0NS"
      },
      "execution_count": null,
      "outputs": []
    },
    {
      "cell_type": "code",
      "source": [
        "word_tokens = preprocess_sentence(sentence)\n",
        "print(word_tokens)"
      ],
      "metadata": {
        "colab": {
          "base_uri": "https://localhost:8080/"
        },
        "id": "TW9r7zVkoqAo",
        "outputId": "4cd04089-23b9-4733-da7d-b9e9f6ce0525"
      },
      "execution_count": null,
      "outputs": [
        {
          "output_type": "stream",
          "name": "stdout",
          "text": [
            "['Hello', 'Me', 'name', 'Abhijit', 'Saha', 'My', 'age', '2', '2']\n"
          ]
        }
      ]
    },
    {
      "cell_type": "code",
      "source": [
        "video_clips = keyword_matching(word_tokens, df)\n",
        "video_clips = [clips for index, clips in enumerate(video_clips) if clips != '']\n",
        "combine_video_clips(video_clips, output_path)"
      ],
      "metadata": {
        "id": "rkufa8NBidcb",
        "colab": {
          "base_uri": "https://localhost:8080/"
        },
        "outputId": "21ae74b9-8fb6-48c4-b7d3-c3a67a3fa8b3"
      },
      "execution_count": null,
      "outputs": [
        {
          "output_type": "stream",
          "name": "stderr",
          "text": [
            "t:   7%|▋         | 75/1129 [00:10<00:15, 67.87it/s, now=None]"
          ]
        },
        {
          "output_type": "stream",
          "name": "stdout",
          "text": [
            "Moviepy - Building video output_combined_video.mp4.\n",
            "MoviePy - Writing audio in output_combined_videoTEMP_MPY_wvf_snd.mp3\n"
          ]
        },
        {
          "output_type": "stream",
          "name": "stderr",
          "text": [
            "\n",
            "chunk:   0%|          | 0/830 [00:00<?, ?it/s, now=None]\u001b[A\n",
            "chunk:   4%|▍         | 34/830 [00:00<00:02, 339.40it/s, now=None]\u001b[A\n",
            "chunk:   9%|▉         | 77/830 [00:00<00:01, 388.49it/s, now=None]\u001b[A\n",
            "chunk:  14%|█▍        | 116/830 [00:00<00:01, 389.00it/s, now=None]\u001b[A\n",
            "chunk:  19%|█▉        | 157/830 [00:00<00:01, 395.04it/s, now=None]\u001b[A\n",
            "chunk:  24%|██▎       | 197/830 [00:00<00:01, 393.13it/s, now=None]\u001b[A\n",
            "chunk:  29%|██▊       | 237/830 [00:00<00:01, 387.50it/s, now=None]\u001b[A\n",
            "chunk:  33%|███▎      | 278/830 [00:00<00:01, 391.49it/s, now=None]\u001b[A\n",
            "chunk:  38%|███▊      | 318/830 [00:00<00:01, 379.08it/s, now=None]\u001b[A\n",
            "chunk:  43%|████▎     | 356/830 [00:00<00:01, 359.12it/s, now=None]\u001b[A\n",
            "chunk:  47%|████▋     | 393/830 [00:01<00:01, 346.92it/s, now=None]\u001b[A\n",
            "chunk:  52%|█████▏    | 428/830 [00:01<00:01, 347.29it/s, now=None]\u001b[A\n",
            "chunk:  56%|█████▌    | 465/830 [00:01<00:01, 349.74it/s, now=None]\u001b[A\n",
            "chunk:  61%|██████▏   | 510/830 [00:01<00:00, 377.69it/s, now=None]\u001b[A\n",
            "chunk:  67%|██████▋   | 554/830 [00:01<00:00, 393.81it/s, now=None]\u001b[A\n",
            "chunk:  73%|███████▎  | 606/830 [00:01<00:00, 430.25it/s, now=None]\u001b[A\n",
            "chunk:  78%|███████▊  | 651/830 [00:01<00:00, 432.98it/s, now=None]\u001b[A\n",
            "chunk:  84%|████████▍ | 698/830 [00:01<00:00, 442.83it/s, now=None]\u001b[A\n",
            "chunk:  90%|████████▉ | 743/830 [00:01<00:00, 420.47it/s, now=None]\u001b[A\n",
            "chunk:  95%|█████████▍| 786/830 [00:02<00:00, 377.95it/s, now=None]\u001b[A\n",
            "chunk:  99%|█████████▉| 825/830 [00:02<00:00, 349.67it/s, now=None]\u001b[A\n",
            "t:   7%|▋         | 75/1129 [00:12<00:15, 67.87it/s, now=None]"
          ]
        },
        {
          "output_type": "stream",
          "name": "stdout",
          "text": [
            "MoviePy - Done.\n",
            "Moviepy - Writing video output_combined_video.mp4\n",
            "\n"
          ]
        },
        {
          "output_type": "stream",
          "name": "stderr",
          "text": [
            "\n",
            "t:   0%|          | 0/1129 [00:00<?, ?it/s, now=None]\u001b[A\n",
            "t:   1%|          | 8/1129 [00:00<00:15, 71.84it/s, now=None]\u001b[A\n",
            "t:   1%|▏         | 16/1129 [00:00<00:16, 66.39it/s, now=None]\u001b[A\n",
            "t:   2%|▏         | 24/1129 [00:00<00:15, 69.65it/s, now=None]\u001b[A\n",
            "t:   3%|▎         | 31/1129 [00:00<00:15, 69.49it/s, now=None]\u001b[A\n",
            "t:   3%|▎         | 38/1129 [00:00<00:16, 67.98it/s, now=None]\u001b[A\n",
            "t:   4%|▍         | 46/1129 [00:00<00:15, 71.00it/s, now=None]\u001b[A\n",
            "t:   5%|▍         | 54/1129 [00:00<00:15, 70.16it/s, now=None]\u001b[A\n",
            "t:   5%|▌         | 62/1129 [00:01<00:25, 41.44it/s, now=None]\u001b[A\n",
            "t:   6%|▌         | 68/1129 [00:01<00:28, 37.33it/s, now=None]\u001b[A\n",
            "t:   6%|▋         | 73/1129 [00:01<00:30, 34.54it/s, now=None]\u001b[A\n",
            "t:   7%|▋         | 78/1129 [00:01<00:35, 29.22it/s, now=None]\u001b[A\n",
            "t:   7%|▋         | 82/1129 [00:01<00:38, 26.90it/s, now=None]\u001b[A\n",
            "t:   8%|▊         | 86/1129 [00:02<00:40, 25.48it/s, now=None]\u001b[A\n",
            "t:   8%|▊         | 89/1129 [00:02<00:44, 23.61it/s, now=None]\u001b[A\n",
            "t:   8%|▊         | 94/1129 [00:02<00:36, 28.10it/s, now=None]\u001b[A\n",
            "t:   9%|▊         | 98/1129 [00:02<00:34, 29.97it/s, now=None]\u001b[A\n",
            "t:   9%|▉         | 102/1129 [00:02<00:34, 30.17it/s, now=None]\u001b[A\n",
            "t:   9%|▉         | 106/1129 [00:02<00:34, 30.08it/s, now=None]\u001b[A\n",
            "t:  10%|▉         | 110/1129 [00:02<00:32, 31.48it/s, now=None]\u001b[A\n",
            "t:  10%|█         | 114/1129 [00:03<00:31, 32.53it/s, now=None]\u001b[A\n",
            "t:  10%|█         | 118/1129 [00:03<00:32, 31.53it/s, now=None]\u001b[AWARNING:py.warnings:/usr/local/lib/python3.10/dist-packages/moviepy/video/io/ffmpeg_reader.py:123: UserWarning: Warning: in file /content/drive/MyDrive/Final Year Project/Data/Me.mp4, 876960 bytes wanted but 0 bytes read,at frame 60/62, at time 2.00/2.04 sec. Using the last valid frame instead.\n",
            "  warnings.warn(\"Warning: in file %s, \"%(self.filename)+\n",
            "\n",
            "\n",
            "t:  11%|█         | 124/1129 [00:03<00:26, 37.65it/s, now=None]\u001b[A\n",
            "t:  11%|█▏        | 129/1129 [00:03<00:24, 40.38it/s, now=None]\u001b[A\n",
            "t:  12%|█▏        | 134/1129 [00:03<00:24, 40.61it/s, now=None]\u001b[A\n",
            "t:  12%|█▏        | 139/1129 [00:03<00:23, 41.39it/s, now=None]\u001b[A\n",
            "t:  13%|█▎        | 144/1129 [00:03<00:24, 40.10it/s, now=None]\u001b[A\n",
            "t:  13%|█▎        | 149/1129 [00:03<00:24, 40.35it/s, now=None]\u001b[A\n",
            "t:  14%|█▎        | 154/1129 [00:04<00:24, 39.02it/s, now=None]\u001b[A\n",
            "t:   7%|▋         | 75/1129 [00:16<00:15, 67.87it/s, now=None]\n",
            "t:  15%|█▍        | 166/1129 [00:04<00:20, 46.37it/s, now=None]\u001b[A\n",
            "t:  15%|█▌        | 174/1129 [00:04<00:17, 54.14it/s, now=None]\u001b[A\n",
            "t:  16%|█▌        | 181/1129 [00:04<00:16, 58.34it/s, now=None]\u001b[A\n",
            "t:  17%|█▋        | 189/1129 [00:04<00:14, 63.33it/s, now=None]\u001b[A\n",
            "t:  17%|█▋        | 196/1129 [00:04<00:14, 63.35it/s, now=None]\u001b[A\n",
            "t:  18%|█▊        | 203/1129 [00:04<00:14, 62.77it/s, now=None]\u001b[A\n",
            "t:  19%|█▊        | 210/1129 [00:04<00:15, 61.22it/s, now=None]\u001b[A\n",
            "t:  19%|█▉        | 219/1129 [00:04<00:13, 65.91it/s, now=None]\u001b[A\n",
            "t:  20%|██        | 228/1129 [00:05<00:12, 70.59it/s, now=None]\u001b[A\n",
            "t:  21%|██        | 236/1129 [00:05<00:12, 69.90it/s, now=None]\u001b[A\n",
            "t:  22%|██▏       | 244/1129 [00:05<00:13, 66.85it/s, now=None]\u001b[A\n",
            "t:  22%|██▏       | 251/1129 [00:05<00:13, 62.81it/s, now=None]\u001b[A\n",
            "t:  23%|██▎       | 258/1129 [00:05<00:14, 61.48it/s, now=None]\u001b[A\n",
            "t:  23%|██▎       | 265/1129 [00:05<00:13, 61.76it/s, now=None]\u001b[A\n",
            "t:  24%|██▍       | 272/1129 [00:05<00:13, 62.51it/s, now=None]\u001b[A\n",
            "t:  25%|██▍       | 279/1129 [00:05<00:13, 62.48it/s, now=None]\u001b[A\n",
            "t:  25%|██▌       | 286/1129 [00:06<00:13, 62.21it/s, now=None]\u001b[A\n",
            "t:  26%|██▌       | 293/1129 [00:06<00:13, 63.42it/s, now=None]\u001b[A\n",
            "t:  27%|██▋       | 300/1129 [00:06<00:12, 64.75it/s, now=None]\u001b[A\n",
            "t:  27%|██▋       | 308/1129 [00:06<00:12, 68.01it/s, now=None]\u001b[A\n",
            "t:  28%|██▊       | 315/1129 [00:06<00:11, 68.03it/s, now=None]\u001b[A\n",
            "t:  29%|██▊       | 322/1129 [00:06<00:11, 67.89it/s, now=None]\u001b[A\n",
            "t:  29%|██▉       | 329/1129 [00:06<00:12, 66.08it/s, now=None]\u001b[A\n",
            "t:  30%|██▉       | 336/1129 [00:06<00:12, 62.75it/s, now=None]\u001b[A\n",
            "t:  30%|███       | 343/1129 [00:06<00:12, 62.65it/s, now=None]\u001b[A\n",
            "t:  31%|███       | 350/1129 [00:07<00:12, 64.40it/s, now=None]\u001b[A\n",
            "t:  32%|███▏      | 357/1129 [00:07<00:12, 64.15it/s, now=None]\u001b[A\n",
            "t:  32%|███▏      | 364/1129 [00:07<00:11, 65.77it/s, now=None]\u001b[A\n",
            "t:  33%|███▎      | 371/1129 [00:07<00:12, 59.87it/s, now=None]\u001b[A\n",
            "t:  33%|███▎      | 378/1129 [00:07<00:12, 61.70it/s, now=None]\u001b[A\n",
            "t:  34%|███▍      | 386/1129 [00:07<00:11, 64.94it/s, now=None]\u001b[A\n",
            "t:  35%|███▍      | 393/1129 [00:07<00:11, 64.07it/s, now=None]\u001b[A\n",
            "t:  36%|███▌      | 401/1129 [00:07<00:10, 66.83it/s, now=None]\u001b[A\n",
            "t:  36%|███▌      | 408/1129 [00:07<00:11, 63.94it/s, now=None]\u001b[A\n",
            "t:  37%|███▋      | 415/1129 [00:08<00:11, 60.28it/s, now=None]\u001b[A\n",
            "t:  37%|███▋      | 422/1129 [00:08<00:11, 59.25it/s, now=None]\u001b[A\n",
            "t:  38%|███▊      | 430/1129 [00:08<00:11, 62.24it/s, now=None]\u001b[A\n",
            "t:  39%|███▊      | 437/1129 [00:08<00:11, 58.61it/s, now=None]\u001b[A\n",
            "t:  39%|███▉      | 444/1129 [00:08<00:11, 60.88it/s, now=None]\u001b[A\n",
            "t:  40%|███▉      | 451/1129 [00:08<00:11, 58.54it/s, now=None]\u001b[A\n",
            "t:  41%|████      | 459/1129 [00:08<00:10, 62.84it/s, now=None]\u001b[A\n",
            "t:  41%|████▏     | 466/1129 [00:08<00:10, 62.28it/s, now=None]\u001b[A\n",
            "t:  42%|████▏     | 473/1129 [00:08<00:10, 63.64it/s, now=None]\u001b[A\n",
            "t:  43%|████▎     | 480/1129 [00:09<00:10, 62.30it/s, now=None]\u001b[A\n",
            "t:  43%|████▎     | 487/1129 [00:09<00:10, 58.97it/s, now=None]\u001b[A\n",
            "t:  44%|████▎     | 493/1129 [00:09<00:11, 56.59it/s, now=None]\u001b[A\n",
            "t:  44%|████▍     | 499/1129 [00:09<00:11, 56.15it/s, now=None]\u001b[A\n",
            "t:  45%|████▍     | 505/1129 [00:09<00:11, 56.02it/s, now=None]\u001b[A\n",
            "t:  45%|████▌     | 512/1129 [00:09<00:10, 58.95it/s, now=None]\u001b[A\n",
            "t:  46%|████▌     | 518/1129 [00:09<00:10, 58.72it/s, now=None]\u001b[A\n",
            "t:  47%|████▋     | 525/1129 [00:09<00:10, 60.05it/s, now=None]\u001b[A\n",
            "t:  47%|████▋     | 532/1129 [00:10<00:09, 62.70it/s, now=None]\u001b[A\n",
            "t:  48%|████▊     | 539/1129 [00:10<00:09, 62.21it/s, now=None]\u001b[A\n",
            "t:  48%|████▊     | 546/1129 [00:10<00:09, 61.07it/s, now=None]\u001b[A\n",
            "t:  49%|████▉     | 553/1129 [00:10<00:09, 61.29it/s, now=None]\u001b[A\n",
            "t:  50%|████▉     | 560/1129 [00:10<00:09, 62.82it/s, now=None]\u001b[A\n",
            "t:  50%|█████     | 567/1129 [00:10<00:09, 59.72it/s, now=None]\u001b[A\n",
            "t:  51%|█████     | 575/1129 [00:10<00:09, 60.74it/s, now=None]\u001b[A\n",
            "t:  52%|█████▏    | 583/1129 [00:10<00:08, 64.92it/s, now=None]\u001b[A\n",
            "t:  52%|█████▏    | 590/1129 [00:10<00:08, 62.99it/s, now=None]\u001b[A\n",
            "t:  53%|█████▎    | 597/1129 [00:11<00:08, 59.31it/s, now=None]\u001b[A\n",
            "t:  53%|█████▎    | 604/1129 [00:11<00:08, 60.23it/s, now=None]\u001b[A\n",
            "t:  54%|█████▍    | 611/1129 [00:11<00:08, 61.65it/s, now=None]\u001b[A\n",
            "t:  55%|█████▍    | 618/1129 [00:11<00:08, 63.52it/s, now=None]\u001b[A\n",
            "t:  55%|█████▌    | 625/1129 [00:11<00:07, 64.88it/s, now=None]\u001b[A\n",
            "t:  56%|█████▌    | 632/1129 [00:11<00:08, 61.97it/s, now=None]\u001b[A\n",
            "t:  57%|█████▋    | 639/1129 [00:11<00:08, 61.05it/s, now=None]\u001b[A\n",
            "t:  57%|█████▋    | 646/1129 [00:11<00:08, 59.80it/s, now=None]\u001b[A\n",
            "t:  58%|█████▊    | 653/1129 [00:11<00:08, 57.69it/s, now=None]\u001b[A\n",
            "t:  58%|█████▊    | 660/1129 [00:12<00:07, 60.62it/s, now=None]\u001b[A\n",
            "t:  59%|█████▉    | 667/1129 [00:12<00:07, 62.71it/s, now=None]\u001b[A\n",
            "t:  60%|█████▉    | 674/1129 [00:12<00:07, 60.22it/s, now=None]\u001b[A\n",
            "t:  60%|██████    | 681/1129 [00:12<00:08, 55.36it/s, now=None]\u001b[A\n",
            "t:  61%|██████    | 687/1129 [00:12<00:08, 54.42it/s, now=None]\u001b[A\n",
            "t:  61%|██████▏   | 693/1129 [00:12<00:09, 47.73it/s, now=None]\u001b[A\n",
            "t:  62%|██████▏   | 698/1129 [00:12<00:09, 45.65it/s, now=None]\u001b[A\n",
            "t:  62%|██████▏   | 703/1129 [00:12<00:09, 44.48it/s, now=None]\u001b[A\n",
            "t:  63%|██████▎   | 708/1129 [00:13<00:09, 42.78it/s, now=None]\u001b[A\n",
            "t:  63%|██████▎   | 713/1129 [00:13<00:09, 41.94it/s, now=None]\u001b[A\n",
            "t:  64%|██████▎   | 718/1129 [00:13<00:09, 41.14it/s, now=None]\u001b[A\n",
            "t:  64%|██████▍   | 723/1129 [00:13<00:09, 41.11it/s, now=None]\u001b[A\n",
            "t:  64%|██████▍   | 728/1129 [00:13<00:09, 41.06it/s, now=None]\u001b[A\n",
            "t:  65%|██████▍   | 733/1129 [00:13<00:09, 39.79it/s, now=None]\u001b[A\n",
            "t:  65%|██████▌   | 738/1129 [00:13<00:09, 42.03it/s, now=None]\u001b[A\n",
            "t:  66%|██████▌   | 743/1129 [00:13<00:08, 43.05it/s, now=None]\u001b[A\n",
            "t:  66%|██████▋   | 748/1129 [00:14<00:09, 41.73it/s, now=None]\u001b[A\n",
            "t:  67%|██████▋   | 753/1129 [00:14<00:09, 39.30it/s, now=None]\u001b[A\n",
            "t:  67%|██████▋   | 757/1129 [00:14<00:09, 39.35it/s, now=None]\u001b[A\n",
            "t:  67%|██████▋   | 761/1129 [00:14<00:09, 38.39it/s, now=None]\u001b[A\n",
            "t:  68%|██████▊   | 765/1129 [00:14<00:09, 38.41it/s, now=None]\u001b[A\n",
            "t:  68%|██████▊   | 769/1129 [00:14<00:09, 37.10it/s, now=None]\u001b[A\n",
            "t:  68%|██████▊   | 773/1129 [00:14<00:09, 37.46it/s, now=None]\u001b[A\n",
            "t:  69%|██████▉   | 778/1129 [00:14<00:08, 40.47it/s, now=None]\u001b[A\n",
            "t:  69%|██████▉   | 783/1129 [00:14<00:08, 42.02it/s, now=None]\u001b[A\n",
            "t:  70%|██████▉   | 788/1129 [00:15<00:07, 43.78it/s, now=None]\u001b[A\n",
            "t:  70%|███████   | 793/1129 [00:15<00:08, 39.32it/s, now=None]\u001b[A\n",
            "t:  71%|███████   | 798/1129 [00:15<00:12, 26.43it/s, now=None]\u001b[A\n",
            "t:  71%|███████   | 802/1129 [00:16<00:37,  8.65it/s, now=None]\u001b[A\n",
            "t:  71%|███████▏  | 805/1129 [00:17<00:41,  7.75it/s, now=None]\u001b[A\n",
            "t:  72%|███████▏  | 809/1129 [00:17<00:31, 10.14it/s, now=None]\u001b[A\n",
            "t:  72%|███████▏  | 814/1129 [00:17<00:22, 13.73it/s, now=None]\u001b[A\n",
            "t:  72%|███████▏  | 818/1129 [00:17<00:20, 15.45it/s, now=None]\u001b[A\n",
            "t:  73%|███████▎  | 821/1129 [00:18<00:26, 11.60it/s, now=None]\u001b[A\n",
            "t:  73%|███████▎  | 824/1129 [00:18<00:30, 10.08it/s, now=None]\u001b[A\n",
            "t:  73%|███████▎  | 826/1129 [00:19<00:36,  8.33it/s, now=None]\u001b[A\n",
            "t:  73%|███████▎  | 829/1129 [00:19<00:31,  9.47it/s, now=None]\u001b[A\n",
            "t:  74%|███████▍  | 833/1129 [00:19<00:22, 12.89it/s, now=None]\u001b[A\n",
            "t:  74%|███████▍  | 837/1129 [00:19<00:19, 14.81it/s, now=None]\u001b[A\n",
            "t:  75%|███████▍  | 845/1129 [00:19<00:11, 24.21it/s, now=None]\u001b[A\n",
            "t:  76%|███████▌  | 853/1129 [00:19<00:08, 33.64it/s, now=None]\u001b[A\n",
            "t:  76%|███████▋  | 861/1129 [00:19<00:06, 42.54it/s, now=None]\u001b[A\n",
            "t:  77%|███████▋  | 868/1129 [00:20<00:05, 47.20it/s, now=None]\u001b[A\n",
            "t:  78%|███████▊  | 875/1129 [00:20<00:04, 52.08it/s, now=None]\u001b[A\n",
            "t:  78%|███████▊  | 882/1129 [00:20<00:04, 55.28it/s, now=None]\u001b[A\n",
            "t:  79%|███████▊  | 889/1129 [00:20<00:04, 55.70it/s, now=None]\u001b[A\n",
            "t:  79%|███████▉  | 896/1129 [00:20<00:04, 54.42it/s, now=None]\u001b[A\n",
            "t:  80%|███████▉  | 903/1129 [00:20<00:03, 57.92it/s, now=None]\u001b[A\n",
            "t:  81%|████████  | 910/1129 [00:20<00:03, 59.11it/s, now=None]\u001b[A\n",
            "t:  81%|████████  | 917/1129 [00:20<00:03, 60.52it/s, now=None]\u001b[A\n",
            "t:  82%|████████▏ | 924/1129 [00:21<00:03, 62.98it/s, now=None]\u001b[A\n",
            "t:  82%|████████▏ | 931/1129 [00:21<00:03, 62.05it/s, now=None]\u001b[A\n",
            "t:  83%|████████▎ | 939/1129 [00:21<00:02, 64.78it/s, now=None]\u001b[A\n",
            "t:  84%|████████▍ | 948/1129 [00:21<00:02, 70.36it/s, now=None]\u001b[A\n",
            "t:  85%|████████▍ | 956/1129 [00:21<00:02, 64.14it/s, now=None]\u001b[A\n",
            "t:  85%|████████▌ | 963/1129 [00:21<00:02, 63.07it/s, now=None]\u001b[A\n",
            "t:  86%|████████▌ | 970/1129 [00:21<00:02, 64.14it/s, now=None]\u001b[A\n",
            "t:  87%|████████▋ | 977/1129 [00:21<00:02, 63.52it/s, now=None]\u001b[A\n",
            "t:  87%|████████▋ | 984/1129 [00:21<00:02, 64.37it/s, now=None]\u001b[A\n",
            "t:  88%|████████▊ | 992/1129 [00:22<00:02, 67.90it/s, now=None]\u001b[A\n",
            "t:  88%|████████▊ | 999/1129 [00:22<00:01, 66.32it/s, now=None]\u001b[A\n",
            "t:  89%|████████▉ | 1007/1129 [00:22<00:01, 69.17it/s, now=None]\u001b[A\n",
            "t:  90%|████████▉ | 1014/1129 [00:22<00:01, 68.07it/s, now=None]\u001b[A\n",
            "t:  90%|█████████ | 1021/1129 [00:22<00:01, 63.23it/s, now=None]\u001b[A\n",
            "t:  91%|█████████ | 1028/1129 [00:22<00:01, 63.18it/s, now=None]\u001b[A\n",
            "t:  92%|█████████▏| 1035/1129 [00:22<00:01, 60.87it/s, now=None]\u001b[A\n",
            "t:  92%|█████████▏| 1042/1129 [00:22<00:01, 61.13it/s, now=None]\u001b[A\n",
            "t:  93%|█████████▎| 1049/1129 [00:22<00:01, 61.98it/s, now=None]\u001b[A\n",
            "t:  94%|█████████▎| 1057/1129 [00:23<00:01, 65.72it/s, now=None]\u001b[A\n",
            "t:  94%|█████████▍| 1065/1129 [00:23<00:00, 67.90it/s, now=None]\u001b[A\n",
            "t:  95%|█████████▌| 1073/1129 [00:23<00:00, 70.17it/s, now=None]\u001b[A\n",
            "t:  96%|█████████▌| 1081/1129 [00:23<00:00, 70.59it/s, now=None]\u001b[A\n",
            "t:  96%|█████████▋| 1089/1129 [00:23<00:00, 69.91it/s, now=None]\u001b[A\n",
            "t:  97%|█████████▋| 1097/1129 [00:23<00:00, 67.16it/s, now=None]\u001b[A\n",
            "t:  98%|█████████▊| 1105/1129 [00:23<00:00, 69.84it/s, now=None]\u001b[A\n",
            "t:  99%|█████████▊| 1114/1129 [00:23<00:00, 74.84it/s, now=None]\u001b[A\n",
            "t:  99%|█████████▉| 1123/1129 [00:23<00:00, 78.44it/s, now=None]\u001b[A\n",
            "t:   7%|▋         | 75/1129 [00:36<00:15, 67.87it/s, now=None]"
          ]
        },
        {
          "output_type": "stream",
          "name": "stdout",
          "text": [
            "Moviepy - Done !\n",
            "Moviepy - video ready output_combined_video.mp4\n",
            "Video clips combined and saved as output_combined_video.mp4\n"
          ]
        }
      ]
    },
    {
      "cell_type": "code",
      "source": [],
      "metadata": {
        "id": "UsyGIRtnideh"
      },
      "execution_count": null,
      "outputs": []
    }
  ]
}